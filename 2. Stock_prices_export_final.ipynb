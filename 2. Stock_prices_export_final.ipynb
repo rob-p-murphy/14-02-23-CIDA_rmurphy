{
 "cells": [
  {
   "cell_type": "code",
   "execution_count": 31,
   "id": "be10828c-8b49-4110-80e2-9fc4af05746f",
   "metadata": {},
   "outputs": [],
   "source": [
    "import pandas_datareader.data as web\n",
    "import pandas as pd\n",
    "import openpyxl\n",
    "from openpyxl.utils.dataframe import dataframe_to_rows"
   ]
  },
  {
   "cell_type": "code",
   "execution_count": 32,
   "id": "e6685e43-6873-4cf7-a0d8-7aacebf3b274",
   "metadata": {},
   "outputs": [],
   "source": [
    "import yfinance as yf"
   ]
  },
  {
   "cell_type": "code",
   "execution_count": 33,
   "id": "d9f3d199-8e0c-43cd-b3e8-65a0d49e7558",
   "metadata": {},
   "outputs": [],
   "source": [
    "# Define ticker symbols of stocks and indices that we will use to import data\n",
    "tickers = ['PRU', 'AIG','MET', 'RGA', '^GSPC','^KIX']"
   ]
  },
  {
   "cell_type": "code",
   "execution_count": 34,
   "id": "6adc588f-96e9-4120-8005-0185b9958d10",
   "metadata": {},
   "outputs": [
    {
     "name": "stdout",
     "output_type": "stream",
     "text": [
      "[*********************100%***********************]  6 of 6 completed\n"
     ]
    }
   ],
   "source": [
    "# Download data from Yahoo Finance\n",
    "data = yf.download(tickers, start=\"1973-01-01\", end=\"2023-04-01\")\n"
   ]
  },
  {
   "cell_type": "code",
   "execution_count": 35,
   "id": "5b050994-fe4a-459d-9bb9-16b20072d70f",
   "metadata": {},
   "outputs": [],
   "source": [
    "# Extract opening prices\n",
    "closing_prices = data['Adj Close']"
   ]
  },
  {
   "cell_type": "code",
   "execution_count": 36,
   "id": "6c8f9ebe-4d35-46d5-ba23-ad136305b440",
   "metadata": {},
   "outputs": [
    {
     "name": "stdout",
     "output_type": "stream",
     "text": [
      "                  AIG        MET        PRU         RGA        ^GSPC  \\\n",
      "Date                                                                   \n",
      "2023-03-27  47.459999  55.849998  79.400002  130.199997  3977.530029   \n",
      "2023-03-28  47.500000  55.430000  79.400002  131.550003  3971.270020   \n",
      "2023-03-29  48.700001  56.490002  81.190002  133.509995  4027.810059   \n",
      "2023-03-30  49.820000  57.049999  81.750000  132.419998  4050.830078   \n",
      "2023-03-31  50.360001  57.939999  82.739998  132.759995  4109.310059   \n",
      "\n",
      "                  ^KIX  \n",
      "Date                    \n",
      "2023-03-27  368.769989  \n",
      "2023-03-28  369.579987  \n",
      "2023-03-29  375.890015  \n",
      "2023-03-30  376.920013  \n",
      "2023-03-31  380.459991  \n"
     ]
    }
   ],
   "source": [
    "print(closing_prices.tail())"
   ]
  },
  {
   "cell_type": "code",
   "execution_count": 37,
   "id": "25052241",
   "metadata": {},
   "outputs": [],
   "source": [
    "# Load the existing \"data_source\" workbook that will be used to collate all data used in the analysis\n",
    "workbook = openpyxl.load_workbook(filename=\"data_source.xlsx\")"
   ]
  },
  {
   "cell_type": "code",
   "execution_count": 38,
   "id": "d8fd4a62",
   "metadata": {},
   "outputs": [],
   "source": [
    "# Get the \"Stockmarket_data\" sheet\n",
    "worksheet = workbook[\"Stockmarket_data\"]"
   ]
  },
  {
   "cell_type": "code",
   "execution_count": 39,
   "id": "26b9f7e8",
   "metadata": {},
   "outputs": [],
   "source": [
    "# Export df to the \"Stockmarket_data\" sheet\n",
    "for r in dataframe_to_rows(closing_prices, header=True):\n",
    "    worksheet.append(r)"
   ]
  },
  {
   "cell_type": "code",
   "execution_count": 40,
   "id": "1f5b3db2",
   "metadata": {},
   "outputs": [],
   "source": [
    "# Save the changes to the workbook\n",
    "workbook.save(\"data_source.xlsx\")"
   ]
  },
  {
   "cell_type": "code",
   "execution_count": null,
   "id": "44f7d835",
   "metadata": {},
   "outputs": [],
   "source": []
  }
 ],
 "metadata": {
  "kernelspec": {
   "display_name": "Python 3",
   "language": "python",
   "name": "python3"
  },
  "language_info": {
   "codemirror_mode": {
    "name": "ipython",
    "version": 3
   },
   "file_extension": ".py",
   "mimetype": "text/x-python",
   "name": "python",
   "nbconvert_exporter": "python",
   "pygments_lexer": "ipython3",
   "version": "3.8.8"
  }
 },
 "nbformat": 4,
 "nbformat_minor": 5
}
