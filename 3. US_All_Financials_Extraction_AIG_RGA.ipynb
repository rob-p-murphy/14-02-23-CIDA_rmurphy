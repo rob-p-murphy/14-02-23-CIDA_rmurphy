{
 "cells": [
  {
   "cell_type": "code",
   "execution_count": 44,
   "id": "dd685fc9",
   "metadata": {},
   "outputs": [],
   "source": [
    "import requests\n",
    "import pandas as pd\n",
    "import csv\n",
    "import requests\n",
    "import sqlite3\n",
    "import openpyxl\n",
    "from openpyxl.utils.dataframe import dataframe_to_rows"
   ]
  },
  {
   "cell_type": "code",
   "execution_count": 45,
   "id": "cb35b9d0",
   "metadata": {},
   "outputs": [],
   "source": [
    "# Set the API endpoint and parameters to import balance sheet and income statement data for AIG and RGA\n",
    "url = 'https://www.alphavantage.co/query'\n",
    "function1 = 'BALANCE_SHEET'\n",
    "function2 = 'INCOME_STATEMENT'\n",
    "symbols = ['AIG', 'RGA']\n",
    "apikey = 'P249K0Q2QUE0A029'\n",
    "params = {\n",
    "    'function': function1,\n",
    "    'apikey': apikey,\n",
    "}"
   ]
  },
  {
   "cell_type": "code",
   "execution_count": 46,
   "id": "7df23c26",
   "metadata": {},
   "outputs": [],
   "source": [
    "# Loop through each symbol (AIG and RGA) and retrieve the income statement data\n",
    "dfs = []\n",
    "for symbol in symbols:\n",
    "    params['symbol'] = symbol\n",
    "    response = requests.get(url, params=params)\n",
    "    data = response.json()\n",
    "    balance_sheet_data = data['annualReports']\n",
    "    df = pd.DataFrame.from_dict(balance_sheet_data)\n",
    "    df['symbol'] = symbol\n",
    "    dfs.append(df)"
   ]
  },
  {
   "cell_type": "code",
   "execution_count": 47,
   "id": "035d2015",
   "metadata": {},
   "outputs": [],
   "source": [
    "# Combine the data for both symbols into a single DataFrame\n",
    "df_combined = pd.concat(dfs)"
   ]
  },
  {
   "cell_type": "code",
   "execution_count": 48,
   "id": "47dbd9d0",
   "metadata": {},
   "outputs": [],
   "source": [
    "# switch the params to function2 (Balance sheet) in order to prepare to import the balance sheet information\n",
    "params = {\n",
    "    'function': function2,\n",
    "    'apikey': apikey,\n",
    "}"
   ]
  },
  {
   "cell_type": "code",
   "execution_count": 49,
   "id": "f839edb8",
   "metadata": {},
   "outputs": [],
   "source": [
    "# import the balance sheet information for each of the symbols into a dataframe called dfs2\n",
    "dfs2 = []\n",
    "for symbol in symbols:\n",
    "    params['symbol'] = symbol\n",
    "    response = requests.get(url, params=params)\n",
    "    data = response.json()\n",
    "    income_statement_data = data['annualReports']\n",
    "    df = pd.DataFrame.from_dict(income_statement_data)\n",
    "    df['symbol'] = symbol\n",
    "    dfs2.append(df)"
   ]
  },
  {
   "cell_type": "code",
   "execution_count": 50,
   "id": "ca762606",
   "metadata": {},
   "outputs": [],
   "source": [
    "df2_combined = pd.concat(dfs2)"
   ]
  },
  {
   "cell_type": "code",
   "execution_count": 51,
   "id": "a66cce0e",
   "metadata": {},
   "outputs": [],
   "source": [
    "df_merged = pd.merge(df_combined, df2_combined, on=[\"fiscalDateEnding\",\"symbol\"], how='inner')"
   ]
  },
  {
   "cell_type": "code",
   "execution_count": 52,
   "id": "9e02bcf7",
   "metadata": {},
   "outputs": [
    {
     "name": "stdout",
     "output_type": "stream",
     "text": [
      "(10, 64)\n"
     ]
    }
   ],
   "source": [
    "print(df_merged.shape)"
   ]
  },
  {
   "cell_type": "code",
   "execution_count": 53,
   "id": "2c37d014",
   "metadata": {},
   "outputs": [],
   "source": [
    "df_merged.to_csv('RGA_AIG.csv', index=False)"
   ]
  },
  {
   "cell_type": "code",
   "execution_count": 54,
   "id": "fb2b04c0",
   "metadata": {},
   "outputs": [],
   "source": [
    "# Load the existing workbook\n",
    "workbook = openpyxl.load_workbook(filename=\"data_source.xlsx\")"
   ]
  },
  {
   "cell_type": "code",
   "execution_count": 55,
   "id": "09bcf5f5",
   "metadata": {},
   "outputs": [],
   "source": [
    "# Get the \"Company_data\" sheet\n",
    "worksheet = workbook[\"Company_data\"]"
   ]
  },
  {
   "cell_type": "code",
   "execution_count": 56,
   "id": "183fa616",
   "metadata": {},
   "outputs": [],
   "source": [
    "# Export df_merged to the \"Company_data\" sheet\n",
    "for r in dataframe_to_rows(df_merged, header=True):\n",
    "    worksheet.append(r)"
   ]
  },
  {
   "cell_type": "code",
   "execution_count": 57,
   "id": "19ffd8ae",
   "metadata": {},
   "outputs": [],
   "source": [
    "# Save the changes to the workbook\n",
    "workbook.save(\"data_source.xlsx\")"
   ]
  },
  {
   "cell_type": "code",
   "execution_count": null,
   "id": "563060c6",
   "metadata": {},
   "outputs": [],
   "source": []
  }
 ],
 "metadata": {
  "kernelspec": {
   "display_name": "Python 3",
   "language": "python",
   "name": "python3"
  },
  "language_info": {
   "codemirror_mode": {
    "name": "ipython",
    "version": 3
   },
   "file_extension": ".py",
   "mimetype": "text/x-python",
   "name": "python",
   "nbconvert_exporter": "python",
   "pygments_lexer": "ipython3",
   "version": "3.8.8"
  }
 },
 "nbformat": 4,
 "nbformat_minor": 5
}
