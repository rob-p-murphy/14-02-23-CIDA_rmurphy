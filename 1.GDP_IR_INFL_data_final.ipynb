{
 "cells": [
  {
   "cell_type": "code",
   "execution_count": 21,
   "id": "a8758050",
   "metadata": {},
   "outputs": [],
   "source": [
    "import pandas as pd\n",
    "import requests\n",
    "import openpyxl\n",
    "from openpyxl.utils.dataframe import dataframe_to_rows"
   ]
  },
  {
   "cell_type": "code",
   "execution_count": 22,
   "id": "7a30e8b7",
   "metadata": {},
   "outputs": [],
   "source": [
    "# Specify the parameters required to import annual GDP, inflation and interest rate data for the USA going back to 2000 from the World Bank API\n",
    "url = \"http://api.worldbank.org/v2/country/USA/indicator/\"\n",
    "indicators = [\"NY.GDP.MKTP.CD\", \"FP.CPI.TOTL.ZG\", \"FR.INR.RINR\"]\n",
    "start_year = \"2000\"\n",
    "end_year = \"2022\"\n",
    "params = {\n",
    "    \"format\": \"json\",\n",
    "    \"date\": f\"{start_year}:{end_year}\"\n",
    "}"
   ]
  },
  {
   "cell_type": "code",
   "execution_count": 23,
   "id": "0507d071",
   "metadata": {},
   "outputs": [],
   "source": [
    "# Fetch data from the API\n",
    "data = {}\n",
    "for indicator in indicators:\n",
    "    response = requests.get(url + indicator, params=params)\n",
    "    json_data = response.json()[1]\n",
    "    for item in json_data:\n",
    "        year = item[\"date\"]\n",
    "        value = item[\"value\"]\n",
    "        if year not in data:\n",
    "            data[year] = {}\n",
    "        data[year][indicator] = value\n"
   ]
  },
  {
   "cell_type": "code",
   "execution_count": 24,
   "id": "7979b509",
   "metadata": {},
   "outputs": [],
   "source": [
    "# Convert data to a pandas dataframe called df\n",
    "df = pd.DataFrame.from_dict(data, orient=\"index\")\n",
    "df.index.name = \"Year\"\n",
    "df.columns = [\"GDP\", \"Inflation\", \"Interest Rate\"]"
   ]
  },
  {
   "cell_type": "code",
   "execution_count": 25,
   "id": "91b067c6",
   "metadata": {},
   "outputs": [],
   "source": [
    "# Create a new workbook which will be used as a staging post to collate all data to be used in my analysis\n",
    "workbook = openpyxl.Workbook()"
   ]
  },
  {
   "cell_type": "code",
   "execution_count": 26,
   "id": "6fe8bc15",
   "metadata": {},
   "outputs": [],
   "source": [
    "# Rename the default sheet to \"Economic_data\"\n",
    "worksheet1 = workbook.active\n",
    "worksheet1.title = \"Economic_data\""
   ]
  },
  {
   "cell_type": "code",
   "execution_count": 27,
   "id": "4aee3e27",
   "metadata": {},
   "outputs": [],
   "source": [
    "# Create a new sheet and name it \"Stockmarket_data\"\n",
    "worksheet2 = workbook.create_sheet(title=\"Stockmarket_data\")\n",
    "# Create a new sheet and name it \"Company_data\"\n",
    "worksheet3 = workbook.create_sheet(title=\"Company_data\")"
   ]
  },
  {
   "cell_type": "code",
   "execution_count": 28,
   "id": "45cd2017",
   "metadata": {},
   "outputs": [],
   "source": [
    "# Rename the workbook to \"Data_Source\"\n",
    "workbook.title = \"Data_Source\""
   ]
  },
  {
   "cell_type": "code",
   "execution_count": 29,
   "id": "6ca31c5c",
   "metadata": {},
   "outputs": [],
   "source": [
    "# Export df to the \"Economic_data\" sheet\n",
    "for r in dataframe_to_rows(df, header=True):\n",
    "    worksheet1.append(r)"
   ]
  },
  {
   "cell_type": "code",
   "execution_count": 30,
   "id": "9c8f972d",
   "metadata": {},
   "outputs": [],
   "source": [
    "# Save the workbook to a file\n",
    "workbook.save(\"data_source.xlsx\")"
   ]
  },
  {
   "cell_type": "code",
   "execution_count": null,
   "id": "2b4bad31",
   "metadata": {},
   "outputs": [],
   "source": []
  }
 ],
 "metadata": {
  "kernelspec": {
   "display_name": "Python 3",
   "language": "python",
   "name": "python3"
  },
  "language_info": {
   "codemirror_mode": {
    "name": "ipython",
    "version": 3
   },
   "file_extension": ".py",
   "mimetype": "text/x-python",
   "name": "python",
   "nbconvert_exporter": "python",
   "pygments_lexer": "ipython3",
   "version": "3.8.8"
  }
 },
 "nbformat": 4,
 "nbformat_minor": 5
}
